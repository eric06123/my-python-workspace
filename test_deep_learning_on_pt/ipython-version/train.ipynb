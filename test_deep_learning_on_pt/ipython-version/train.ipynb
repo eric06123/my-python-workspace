{
 "cells": [
  {
   "cell_type": "code",
   "execution_count": 1,
   "metadata": {},
   "outputs": [
    {
     "name": "stderr",
     "output_type": "stream",
     "text": [
      "C:\\Users\\qwert\\Anaconda3\\envs\\python35\\lib\\site-packages\\h5py\\__init__.py:36: FutureWarning: Conversion of the second argument of issubdtype from `float` to `np.floating` is deprecated. In future, it will be treated as `np.float64 == np.dtype(float).type`.\n",
      "  from ._conv import register_converters as _register_converters\n",
      "Using TensorFlow backend.\n"
     ]
    }
   ],
   "source": [
    "import glob\n",
    "import os\n",
    "import cv2\n",
    "import numpy as np\n",
    "from dataGenerator import DataGeneratorHomographyNet\n",
    "import os\n",
    "import glob\n",
    "import datetime\n",
    "import pandas as pd\n",
    "import matplotlib.pyplot as plt\n",
    "import keras\n",
    "from keras.callbacks import ModelCheckpoint\n",
    "from sklearn.model_selection import train_test_split\n",
    "import tensorflow as tf\n",
    "from homographyNet import HomographyNet\n",
    "import dataGenerator as dg"
   ]
  },
  {
   "cell_type": "code",
   "execution_count": 2,
   "metadata": {},
   "outputs": [],
   "source": [
    "img_dir = \"cut2plate_img/\"\n",
    "img_ext = \".jpg\"\n",
    "model_dir = \"model/\"\n",
    "start_ts = datetime.datetime.now().strftime(\"%Y%m%d-%H%M%S\")"
   ]
  },
  {
   "cell_type": "code",
   "execution_count": 3,
   "metadata": {},
   "outputs": [
    {
     "name": "stdout",
     "output_type": "stream",
     "text": [
      "['cut2plate_img\\\\c1.jpg', 'cut2plate_img\\\\c2.jpg', 'cut2plate_img\\\\c3.jpg', 'cut2plate_img\\\\c4.jpg', 'cut2plate_img\\\\c5.jpg', 'cut2plate_img\\\\c6.jpg', 'cut2plate_img\\\\c7.jpg']\n",
      "model/20210123-172545\n"
     ]
    }
   ],
   "source": [
    "img_paths = glob.glob(os.path.join(img_dir, '*' + img_ext))\n",
    "print(img_paths)\n",
    "model_dir = os.path.join(model_dir,start_ts)\n",
    "\n",
    "print(model_dir)\n",
    "if not os.path.exists(model_dir):\n",
    "    os.makedirs(model_dir)"
   ]
  },
  {
   "cell_type": "code",
   "execution_count": 8,
   "metadata": {},
   "outputs": [
    {
     "name": "stdout",
     "output_type": "stream",
     "text": [
      "(64, 500, 500, 2)\n",
      "(64, 8)\n"
     ]
    }
   ],
   "source": [
    "dg = DataGeneratorHomographyNet(img_paths, input_dim=(500, 500))\n",
    "\n",
    "data, label = dg.__getitem__(0)\n",
    "\n",
    "#print(data)\n",
    "print(data.shape)\n",
    "#print(label)\n",
    "print(label.shape)\n",
    "\n",
    "#k()\n",
    "#for idx in range(dg.batch_size):\n",
    "for idx in range(0,1):\n",
    "    cv2.imshow(\"orig\", data[idx, :, :, 0])\n",
    "    #cv2.imshow(\"transformed\", data[idx, :, :, 1])\n",
    "    #cv2.waitKey(0)\n",
    "    cv2.waitKey(0)\n",
    "    cv2.destroyAllWindows()"
   ]
  },
  {
   "cell_type": "code",
   "execution_count": null,
   "metadata": {},
   "outputs": [],
   "source": []
  },
  {
   "cell_type": "code",
   "execution_count": null,
   "metadata": {},
   "outputs": [],
   "source": []
  },
  {
   "cell_type": "code",
   "execution_count": null,
   "metadata": {},
   "outputs": [],
   "source": []
  },
  {
   "cell_type": "markdown",
   "metadata": {},
   "source": [
    "## 開始訓練"
   ]
  },
  {
   "cell_type": "code",
   "execution_count": null,
   "metadata": {},
   "outputs": [],
   "source": [
    "## model training \n",
    "\n",
    "batch_size = 1\n",
    "verbose=1\n",
    "\n",
    "input_size = (360, 360, 2)\n",
    "#划分训练集和验证集，验证集搞小一点，不然每个epoch跑完太慢了\n",
    "train_idx, val_idx = train_test_split(img_paths, test_size=0.3)\n",
    "#拿到训练数据\n",
    "train_dg = dg.DataGeneratorHomographyNet(train_idx, input_dim=input_size[0:2], batch_size=batch_size)\n",
    "#拿到既定事实的标签\n",
    "val_dg = dg.DataGeneratorHomographyNet(val_idx, input_dim=input_size[0:2], batch_size=batch_size)\n",
    "\n",
    "test_data,test_label = val_dg.__getitem__(0)\n",
    "\n",
    "#对于神经网络来说这个鬼一样的图就是输入，它自己从这幅图的左边和右边学习出单应性矩阵，神奇吧？\n",
    "#修正网络输入头\n",
    "homo_net = HomographyNet(input_size)\n",
    "#实例化网络结构\n",
    "model = homo_net.build_model()\n",
    "\n",
    "model.train()\n",
    "model = model.cuda()\n",
    "\n",
    "#输出模型\n",
    "model.summary()\n",
    "\n",
    "\n",
    "## check point\n",
    "checkpoint = ModelCheckpoint(\n",
    "    os.path.join(model_dir, 'model.h5'),\n",
    "    monitor='val_loss',\n",
    "    verbose=verbose,\n",
    "    save_best_only=True,\n",
    "    save_weights_only=False,\n",
    "    mode='auto'\n",
    ")\n",
    "\n",
    "## train model\n",
    "history = model.fit_generator(train_dg, \n",
    "                              validation_data = val_dg,\n",
    "                              #steps_per_epoch = 32, \n",
    "                              callbacks = [checkpoint], \n",
    "                              epochs = 5, \n",
    "                              verbose = 1)\n",
    "\n",
    "\n",
    "\n",
    "#model.save(os.path.join(model_dir, 'model.h5'))   ## 儲存整個模型與參數\n",
    "#model.save_weights(os.path.join(model_dir, 'my_model_weights.h5'))   ## 只儲存參數"
   ]
  },
  {
   "cell_type": "code",
   "execution_count": null,
   "metadata": {},
   "outputs": [],
   "source": []
  },
  {
   "cell_type": "code",
   "execution_count": null,
   "metadata": {},
   "outputs": [],
   "source": []
  },
  {
   "cell_type": "markdown",
   "metadata": {},
   "source": [
    "## 測試"
   ]
  },
  {
   "cell_type": "code",
   "execution_count": null,
   "metadata": {},
   "outputs": [],
   "source": [
    "## 參考 https://blog.csdn.net/Andrwin/article/details/105517806\n",
    "## 參考 https://github.com/4nthon/HomographyNet_Keras"
   ]
  },
  {
   "cell_type": "code",
   "execution_count": null,
   "metadata": {},
   "outputs": [],
   "source": []
  },
  {
   "cell_type": "code",
   "execution_count": null,
   "metadata": {},
   "outputs": [],
   "source": [
    "## test model\n",
    "\n",
    "model = keras.models.load_model(\"model/20210122-214300/model.h5\")\n",
    "model.summary()\n",
    "\n",
    "print(test_data.shape)\n",
    "predict_m = model.predict(test_data)\n",
    "\n",
    "print(\"true\",test_label)\n",
    "print(test_label.shape)\n",
    "print(\"predict\",predict_m)\n",
    "print(predict_m.shape)"
   ]
  },
  {
   "cell_type": "code",
   "execution_count": null,
   "metadata": {},
   "outputs": [],
   "source": []
  }
 ],
 "metadata": {
  "kernelspec": {
   "display_name": "Python 3",
   "language": "python",
   "name": "python3"
  },
  "language_info": {
   "codemirror_mode": {
    "name": "ipython",
    "version": 3
   },
   "file_extension": ".py",
   "mimetype": "text/x-python",
   "name": "python",
   "nbconvert_exporter": "python",
   "pygments_lexer": "ipython3",
   "version": "3.5.5"
  }
 },
 "nbformat": 4,
 "nbformat_minor": 2
}
